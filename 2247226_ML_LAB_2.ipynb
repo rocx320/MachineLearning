{
  "nbformat": 4,
  "nbformat_minor": 0,
  "metadata": {
    "colab": {
      "provenance": [],
      "include_colab_link": true
    },
    "kernelspec": {
      "name": "python3",
      "display_name": "Python 3"
    },
    "language_info": {
      "name": "python"
    }
  },
  "cells": [
    {
      "cell_type": "markdown",
      "metadata": {
        "id": "view-in-github",
        "colab_type": "text"
      },
      "source": [
        "<a href=\"https://colab.research.google.com/github/rocx320/MachineLearning/blob/main/2247226_ML_LAB_2.ipynb\" target=\"_parent\"><img src=\"https://colab.research.google.com/assets/colab-badge.svg\" alt=\"Open In Colab\"/></a>"
      ]
    },
    {
      "cell_type": "markdown",
      "source": [
        "#Wine Dataset"
      ],
      "metadata": {
        "id": "qMVVT7nYyVXP"
      }
    },
    {
      "cell_type": "code",
      "execution_count": 1,
      "metadata": {
        "id": "956Hwm-YyRg5"
      },
      "outputs": [],
      "source": [
        "import pandas as pd\n",
        "import numpy as np\n",
        "import io\n",
        "import matplotlib.pyplot as plt\n",
        "import seaborn as sns\n",
        "\n",
        "from sklearn.datasets import load_wine\n",
        "from sklearn.metrics import confusion_matrix\n",
        "from sklearn.neighbors import KNeighborsClassifier\n",
        "from sklearn.model_selection import train_test_split,cross_val_score\n",
        "from sklearn import preprocessing\n",
        "from sklearn.metrics import accuracy_score\n",
        "\n",
        "from sklearn.preprocessing import minmax_scale"
      ]
    },
    {
      "cell_type": "code",
      "source": [
        "wine = load_wine()\n",
        "x=pd.DataFrame(wine.data, columns=wine.feature_names)\n",
        "print(x)"
      ],
      "metadata": {
        "colab": {
          "base_uri": "https://localhost:8080/"
        },
        "id": "a3DAVa9OyesL",
        "outputId": "c302754a-3351-4adc-953d-5ea3ad5522cd"
      },
      "execution_count": 2,
      "outputs": [
        {
          "output_type": "stream",
          "name": "stdout",
          "text": [
            "     alcohol  malic_acid   ash  alcalinity_of_ash  magnesium  total_phenols  \\\n",
            "0      14.23        1.71  2.43               15.6      127.0           2.80   \n",
            "1      13.20        1.78  2.14               11.2      100.0           2.65   \n",
            "2      13.16        2.36  2.67               18.6      101.0           2.80   \n",
            "3      14.37        1.95  2.50               16.8      113.0           3.85   \n",
            "4      13.24        2.59  2.87               21.0      118.0           2.80   \n",
            "..       ...         ...   ...                ...        ...            ...   \n",
            "173    13.71        5.65  2.45               20.5       95.0           1.68   \n",
            "174    13.40        3.91  2.48               23.0      102.0           1.80   \n",
            "175    13.27        4.28  2.26               20.0      120.0           1.59   \n",
            "176    13.17        2.59  2.37               20.0      120.0           1.65   \n",
            "177    14.13        4.10  2.74               24.5       96.0           2.05   \n",
            "\n",
            "     flavanoids  nonflavanoid_phenols  proanthocyanins  color_intensity   hue  \\\n",
            "0          3.06                  0.28             2.29             5.64  1.04   \n",
            "1          2.76                  0.26             1.28             4.38  1.05   \n",
            "2          3.24                  0.30             2.81             5.68  1.03   \n",
            "3          3.49                  0.24             2.18             7.80  0.86   \n",
            "4          2.69                  0.39             1.82             4.32  1.04   \n",
            "..          ...                   ...              ...              ...   ...   \n",
            "173        0.61                  0.52             1.06             7.70  0.64   \n",
            "174        0.75                  0.43             1.41             7.30  0.70   \n",
            "175        0.69                  0.43             1.35            10.20  0.59   \n",
            "176        0.68                  0.53             1.46             9.30  0.60   \n",
            "177        0.76                  0.56             1.35             9.20  0.61   \n",
            "\n",
            "     od280/od315_of_diluted_wines  proline  \n",
            "0                            3.92   1065.0  \n",
            "1                            3.40   1050.0  \n",
            "2                            3.17   1185.0  \n",
            "3                            3.45   1480.0  \n",
            "4                            2.93    735.0  \n",
            "..                            ...      ...  \n",
            "173                          1.74    740.0  \n",
            "174                          1.56    750.0  \n",
            "175                          1.56    835.0  \n",
            "176                          1.62    840.0  \n",
            "177                          1.60    560.0  \n",
            "\n",
            "[178 rows x 13 columns]\n"
          ]
        }
      ]
    },
    {
      "cell_type": "code",
      "source": [
        "x.shape"
      ],
      "metadata": {
        "colab": {
          "base_uri": "https://localhost:8080/"
        },
        "id": "S51Zg4KHyuXG",
        "outputId": "4602b0bc-a47c-496f-d705-a2ea1fca119a"
      },
      "execution_count": 3,
      "outputs": [
        {
          "output_type": "execute_result",
          "data": {
            "text/plain": [
              "(178, 13)"
            ]
          },
          "metadata": {},
          "execution_count": 3
        }
      ]
    },
    {
      "cell_type": "code",
      "source": [
        "x.info()"
      ],
      "metadata": {
        "colab": {
          "base_uri": "https://localhost:8080/"
        },
        "id": "ApU8B4x4y1wq",
        "outputId": "2a579dd8-5ae5-48bd-85c7-66af5110ef87"
      },
      "execution_count": 4,
      "outputs": [
        {
          "output_type": "stream",
          "name": "stdout",
          "text": [
            "<class 'pandas.core.frame.DataFrame'>\n",
            "RangeIndex: 178 entries, 0 to 177\n",
            "Data columns (total 13 columns):\n",
            " #   Column                        Non-Null Count  Dtype  \n",
            "---  ------                        --------------  -----  \n",
            " 0   alcohol                       178 non-null    float64\n",
            " 1   malic_acid                    178 non-null    float64\n",
            " 2   ash                           178 non-null    float64\n",
            " 3   alcalinity_of_ash             178 non-null    float64\n",
            " 4   magnesium                     178 non-null    float64\n",
            " 5   total_phenols                 178 non-null    float64\n",
            " 6   flavanoids                    178 non-null    float64\n",
            " 7   nonflavanoid_phenols          178 non-null    float64\n",
            " 8   proanthocyanins               178 non-null    float64\n",
            " 9   color_intensity               178 non-null    float64\n",
            " 10  hue                           178 non-null    float64\n",
            " 11  od280/od315_of_diluted_wines  178 non-null    float64\n",
            " 12  proline                       178 non-null    float64\n",
            "dtypes: float64(13)\n",
            "memory usage: 18.2 KB\n"
          ]
        }
      ]
    },
    {
      "cell_type": "code",
      "source": [
        "y=wine.target"
      ],
      "metadata": {
        "id": "-1SOOkFHy5qh"
      },
      "execution_count": 5,
      "outputs": []
    },
    {
      "cell_type": "code",
      "source": [
        "y"
      ],
      "metadata": {
        "colab": {
          "base_uri": "https://localhost:8080/"
        },
        "id": "cNFiAPQjy-WX",
        "outputId": "13738455-75f7-4c3a-d43f-1cd477fd8030"
      },
      "execution_count": 6,
      "outputs": [
        {
          "output_type": "execute_result",
          "data": {
            "text/plain": [
              "array([0, 0, 0, 0, 0, 0, 0, 0, 0, 0, 0, 0, 0, 0, 0, 0, 0, 0, 0, 0, 0, 0,\n",
              "       0, 0, 0, 0, 0, 0, 0, 0, 0, 0, 0, 0, 0, 0, 0, 0, 0, 0, 0, 0, 0, 0,\n",
              "       0, 0, 0, 0, 0, 0, 0, 0, 0, 0, 0, 0, 0, 0, 0, 1, 1, 1, 1, 1, 1, 1,\n",
              "       1, 1, 1, 1, 1, 1, 1, 1, 1, 1, 1, 1, 1, 1, 1, 1, 1, 1, 1, 1, 1, 1,\n",
              "       1, 1, 1, 1, 1, 1, 1, 1, 1, 1, 1, 1, 1, 1, 1, 1, 1, 1, 1, 1, 1, 1,\n",
              "       1, 1, 1, 1, 1, 1, 1, 1, 1, 1, 1, 1, 1, 1, 1, 1, 1, 1, 1, 1, 2, 2,\n",
              "       2, 2, 2, 2, 2, 2, 2, 2, 2, 2, 2, 2, 2, 2, 2, 2, 2, 2, 2, 2, 2, 2,\n",
              "       2, 2, 2, 2, 2, 2, 2, 2, 2, 2, 2, 2, 2, 2, 2, 2, 2, 2, 2, 2, 2, 2,\n",
              "       2, 2])"
            ]
          },
          "metadata": {},
          "execution_count": 6
        }
      ]
    },
    {
      "cell_type": "markdown",
      "source": [
        "##Sort"
      ],
      "metadata": {
        "id": "EblD65EX3p_x"
      }
    },
    {
      "cell_type": "code",
      "source": [
        "x.alcohol.sort_values()"
      ],
      "metadata": {
        "colab": {
          "base_uri": "https://localhost:8080/"
        },
        "id": "Y-knIU2Tx8EB",
        "outputId": "b634ebd5-d14e-4533-8ed8-d3c13021e088"
      },
      "execution_count": 7,
      "outputs": [
        {
          "output_type": "execute_result",
          "data": {
            "text/plain": [
              "115    11.03\n",
              "113    11.41\n",
              "120    11.45\n",
              "110    11.46\n",
              "121    11.56\n",
              "       ...  \n",
              "46     14.38\n",
              "14     14.38\n",
              "6      14.39\n",
              "13     14.75\n",
              "8      14.83\n",
              "Name: alcohol, Length: 178, dtype: float64"
            ]
          },
          "metadata": {},
          "execution_count": 7
        }
      ]
    },
    {
      "cell_type": "code",
      "source": [
        "x_train, x_test, y_train, y_test = train_test_split(x, y, test_size=0.2, random_state=40)"
      ],
      "metadata": {
        "id": "Fm_Gr7PZy_o3"
      },
      "execution_count": 8,
      "outputs": []
    },
    {
      "cell_type": "code",
      "source": [
        "knn = KNeighborsClassifier(n_neighbors=9,metric=\"minkowski\")\n",
        "knn.fit(x_train, y_train)\n",
        "y_pred = knn.predict(x_test)\n",
        "accuracy = accuracy_score(y_test, y_pred)\n",
        "print (\"Accuracy : %s\" % \"{0:.3%}\".format(accuracy))"
      ],
      "metadata": {
        "colab": {
          "base_uri": "https://localhost:8080/"
        },
        "id": "EzXX5eNNzDmh",
        "outputId": "1c033378-6d1c-498c-ee10-12ec0b4eedf6"
      },
      "execution_count": 9,
      "outputs": [
        {
          "output_type": "stream",
          "name": "stdout",
          "text": [
            "Accuracy : 66.667%\n"
          ]
        }
      ]
    },
    {
      "cell_type": "code",
      "source": [
        "cn = confusion_matrix(y_test,y_pred)\n",
        "print(cn)"
      ],
      "metadata": {
        "colab": {
          "base_uri": "https://localhost:8080/"
        },
        "id": "096k_ZTOzG10",
        "outputId": "ecbb456a-a8a6-494d-aa0c-7b1e242bcd30"
      },
      "execution_count": 10,
      "outputs": [
        {
          "output_type": "stream",
          "name": "stdout",
          "text": [
            "[[12  0  0]\n",
            " [ 0  6  5]\n",
            " [ 1  6  6]]\n"
          ]
        }
      ]
    },
    {
      "cell_type": "markdown",
      "source": [
        "#My Dataset (Lung Cancer Dataset)"
      ],
      "metadata": {
        "id": "Afcehu_vzMJW"
      }
    },
    {
      "cell_type": "code",
      "source": [
        "data=pd.read_csv(\"lungs.csv\")\n",
        "print(data)\n",
        "type(data)"
      ],
      "metadata": {
        "colab": {
          "base_uri": "https://localhost:8080/"
        },
        "id": "mH0UeCFWzpjJ",
        "outputId": "0e59d8fe-32f9-4cc6-a7c1-fc9181cafab7"
      },
      "execution_count": 12,
      "outputs": [
        {
          "output_type": "stream",
          "name": "stdout",
          "text": [
            "    GENDER  AGE  SMOKING  YELLOW_FINGERS  ANXIETY  PEER_PRESSURE  \\\n",
            "0        M   69        1               2        2              1   \n",
            "1        M   74        2               1        1              1   \n",
            "2        F   59        1               1        1              2   \n",
            "3        M   63        2               2        2              1   \n",
            "4        F   63        1               2        1              1   \n",
            "..     ...  ...      ...             ...      ...            ...   \n",
            "304      F   56        1               1        1              2   \n",
            "305      M   70        2               1        1              1   \n",
            "306      M   58        2               1        1              1   \n",
            "307      M   67        2               1        2              1   \n",
            "308      M   62        1               1        1              2   \n",
            "\n",
            "     CHRONIC DISEASE  FATIGUE   ALLERGY   WHEEZING  ALCOHOL CONSUMING  \\\n",
            "0                  1         2         1         2                  2   \n",
            "1                  2         2         2         1                  1   \n",
            "2                  1         2         1         2                  1   \n",
            "3                  1         1         1         1                  2   \n",
            "4                  1         1         1         2                  1   \n",
            "..               ...       ...       ...       ...                ...   \n",
            "304                2         2         1         1                  2   \n",
            "305                1         2         2         2                  2   \n",
            "306                1         1         2         2                  2   \n",
            "307                1         2         2         1                  2   \n",
            "308                1         2         2         2                  2   \n",
            "\n",
            "     COUGHING  SHORTNESS OF BREATH  SWALLOWING DIFFICULTY  CHEST PAIN  \\\n",
            "0           2                    2                      2           2   \n",
            "1           1                    2                      2           2   \n",
            "2           2                    2                      1           2   \n",
            "3           1                    1                      2           2   \n",
            "4           2                    2                      1           1   \n",
            "..        ...                  ...                    ...         ...   \n",
            "304         2                    2                      2           1   \n",
            "305         2                    2                      1           2   \n",
            "306         2                    1                      1           2   \n",
            "307         2                    2                      1           2   \n",
            "308         1                    1                      2           1   \n",
            "\n",
            "    LUNG_CANCER  \n",
            "0           YES  \n",
            "1           YES  \n",
            "2            NO  \n",
            "3            NO  \n",
            "4            NO  \n",
            "..          ...  \n",
            "304         YES  \n",
            "305         YES  \n",
            "306         YES  \n",
            "307         YES  \n",
            "308         YES  \n",
            "\n",
            "[309 rows x 16 columns]\n"
          ]
        },
        {
          "output_type": "execute_result",
          "data": {
            "text/plain": [
              "pandas.core.frame.DataFrame"
            ]
          },
          "metadata": {},
          "execution_count": 12
        }
      ]
    },
    {
      "cell_type": "code",
      "source": [
        "data.describe()"
      ],
      "metadata": {
        "colab": {
          "base_uri": "https://localhost:8080/",
          "height": 381
        },
        "id": "i7u7b7Daz0jN",
        "outputId": "5f061821-dd5a-457e-c75b-b71dbce3ad9e"
      },
      "execution_count": 13,
      "outputs": [
        {
          "output_type": "execute_result",
          "data": {
            "text/plain": [
              "              AGE     SMOKING  YELLOW_FINGERS     ANXIETY  PEER_PRESSURE  \\\n",
              "count  309.000000  309.000000      309.000000  309.000000     309.000000   \n",
              "mean    62.673139    1.563107        1.569579    1.498382       1.501618   \n",
              "std      8.210301    0.496806        0.495938    0.500808       0.500808   \n",
              "min     21.000000    1.000000        1.000000    1.000000       1.000000   \n",
              "25%     57.000000    1.000000        1.000000    1.000000       1.000000   \n",
              "50%     62.000000    2.000000        2.000000    1.000000       2.000000   \n",
              "75%     69.000000    2.000000        2.000000    2.000000       2.000000   \n",
              "max     87.000000    2.000000        2.000000    2.000000       2.000000   \n",
              "\n",
              "       CHRONIC DISEASE    FATIGUE     ALLERGY     WHEEZING  ALCOHOL CONSUMING  \\\n",
              "count       309.000000  309.000000  309.000000  309.000000         309.000000   \n",
              "mean          1.504854    1.673139    1.556634    1.556634           1.556634   \n",
              "std           0.500787    0.469827    0.497588    0.497588           0.497588   \n",
              "min           1.000000    1.000000    1.000000    1.000000           1.000000   \n",
              "25%           1.000000    1.000000    1.000000    1.000000           1.000000   \n",
              "50%           2.000000    2.000000    2.000000    2.000000           2.000000   \n",
              "75%           2.000000    2.000000    2.000000    2.000000           2.000000   \n",
              "max           2.000000    2.000000    2.000000    2.000000           2.000000   \n",
              "\n",
              "         COUGHING  SHORTNESS OF BREATH  SWALLOWING DIFFICULTY  CHEST PAIN  \n",
              "count  309.000000           309.000000             309.000000  309.000000  \n",
              "mean     1.579288             1.640777               1.469256    1.556634  \n",
              "std      0.494474             0.480551               0.499863    0.497588  \n",
              "min      1.000000             1.000000               1.000000    1.000000  \n",
              "25%      1.000000             1.000000               1.000000    1.000000  \n",
              "50%      2.000000             2.000000               1.000000    2.000000  \n",
              "75%      2.000000             2.000000               2.000000    2.000000  \n",
              "max      2.000000             2.000000               2.000000    2.000000  "
            ],
            "text/html": [
              "\n",
              "\n",
              "  <div id=\"df-5a4246ed-d6de-4a02-956f-a6240f2c0059\">\n",
              "    <div class=\"colab-df-container\">\n",
              "      <div>\n",
              "<style scoped>\n",
              "    .dataframe tbody tr th:only-of-type {\n",
              "        vertical-align: middle;\n",
              "    }\n",
              "\n",
              "    .dataframe tbody tr th {\n",
              "        vertical-align: top;\n",
              "    }\n",
              "\n",
              "    .dataframe thead th {\n",
              "        text-align: right;\n",
              "    }\n",
              "</style>\n",
              "<table border=\"1\" class=\"dataframe\">\n",
              "  <thead>\n",
              "    <tr style=\"text-align: right;\">\n",
              "      <th></th>\n",
              "      <th>AGE</th>\n",
              "      <th>SMOKING</th>\n",
              "      <th>YELLOW_FINGERS</th>\n",
              "      <th>ANXIETY</th>\n",
              "      <th>PEER_PRESSURE</th>\n",
              "      <th>CHRONIC DISEASE</th>\n",
              "      <th>FATIGUE</th>\n",
              "      <th>ALLERGY</th>\n",
              "      <th>WHEEZING</th>\n",
              "      <th>ALCOHOL CONSUMING</th>\n",
              "      <th>COUGHING</th>\n",
              "      <th>SHORTNESS OF BREATH</th>\n",
              "      <th>SWALLOWING DIFFICULTY</th>\n",
              "      <th>CHEST PAIN</th>\n",
              "    </tr>\n",
              "  </thead>\n",
              "  <tbody>\n",
              "    <tr>\n",
              "      <th>count</th>\n",
              "      <td>309.000000</td>\n",
              "      <td>309.000000</td>\n",
              "      <td>309.000000</td>\n",
              "      <td>309.000000</td>\n",
              "      <td>309.000000</td>\n",
              "      <td>309.000000</td>\n",
              "      <td>309.000000</td>\n",
              "      <td>309.000000</td>\n",
              "      <td>309.000000</td>\n",
              "      <td>309.000000</td>\n",
              "      <td>309.000000</td>\n",
              "      <td>309.000000</td>\n",
              "      <td>309.000000</td>\n",
              "      <td>309.000000</td>\n",
              "    </tr>\n",
              "    <tr>\n",
              "      <th>mean</th>\n",
              "      <td>62.673139</td>\n",
              "      <td>1.563107</td>\n",
              "      <td>1.569579</td>\n",
              "      <td>1.498382</td>\n",
              "      <td>1.501618</td>\n",
              "      <td>1.504854</td>\n",
              "      <td>1.673139</td>\n",
              "      <td>1.556634</td>\n",
              "      <td>1.556634</td>\n",
              "      <td>1.556634</td>\n",
              "      <td>1.579288</td>\n",
              "      <td>1.640777</td>\n",
              "      <td>1.469256</td>\n",
              "      <td>1.556634</td>\n",
              "    </tr>\n",
              "    <tr>\n",
              "      <th>std</th>\n",
              "      <td>8.210301</td>\n",
              "      <td>0.496806</td>\n",
              "      <td>0.495938</td>\n",
              "      <td>0.500808</td>\n",
              "      <td>0.500808</td>\n",
              "      <td>0.500787</td>\n",
              "      <td>0.469827</td>\n",
              "      <td>0.497588</td>\n",
              "      <td>0.497588</td>\n",
              "      <td>0.497588</td>\n",
              "      <td>0.494474</td>\n",
              "      <td>0.480551</td>\n",
              "      <td>0.499863</td>\n",
              "      <td>0.497588</td>\n",
              "    </tr>\n",
              "    <tr>\n",
              "      <th>min</th>\n",
              "      <td>21.000000</td>\n",
              "      <td>1.000000</td>\n",
              "      <td>1.000000</td>\n",
              "      <td>1.000000</td>\n",
              "      <td>1.000000</td>\n",
              "      <td>1.000000</td>\n",
              "      <td>1.000000</td>\n",
              "      <td>1.000000</td>\n",
              "      <td>1.000000</td>\n",
              "      <td>1.000000</td>\n",
              "      <td>1.000000</td>\n",
              "      <td>1.000000</td>\n",
              "      <td>1.000000</td>\n",
              "      <td>1.000000</td>\n",
              "    </tr>\n",
              "    <tr>\n",
              "      <th>25%</th>\n",
              "      <td>57.000000</td>\n",
              "      <td>1.000000</td>\n",
              "      <td>1.000000</td>\n",
              "      <td>1.000000</td>\n",
              "      <td>1.000000</td>\n",
              "      <td>1.000000</td>\n",
              "      <td>1.000000</td>\n",
              "      <td>1.000000</td>\n",
              "      <td>1.000000</td>\n",
              "      <td>1.000000</td>\n",
              "      <td>1.000000</td>\n",
              "      <td>1.000000</td>\n",
              "      <td>1.000000</td>\n",
              "      <td>1.000000</td>\n",
              "    </tr>\n",
              "    <tr>\n",
              "      <th>50%</th>\n",
              "      <td>62.000000</td>\n",
              "      <td>2.000000</td>\n",
              "      <td>2.000000</td>\n",
              "      <td>1.000000</td>\n",
              "      <td>2.000000</td>\n",
              "      <td>2.000000</td>\n",
              "      <td>2.000000</td>\n",
              "      <td>2.000000</td>\n",
              "      <td>2.000000</td>\n",
              "      <td>2.000000</td>\n",
              "      <td>2.000000</td>\n",
              "      <td>2.000000</td>\n",
              "      <td>1.000000</td>\n",
              "      <td>2.000000</td>\n",
              "    </tr>\n",
              "    <tr>\n",
              "      <th>75%</th>\n",
              "      <td>69.000000</td>\n",
              "      <td>2.000000</td>\n",
              "      <td>2.000000</td>\n",
              "      <td>2.000000</td>\n",
              "      <td>2.000000</td>\n",
              "      <td>2.000000</td>\n",
              "      <td>2.000000</td>\n",
              "      <td>2.000000</td>\n",
              "      <td>2.000000</td>\n",
              "      <td>2.000000</td>\n",
              "      <td>2.000000</td>\n",
              "      <td>2.000000</td>\n",
              "      <td>2.000000</td>\n",
              "      <td>2.000000</td>\n",
              "    </tr>\n",
              "    <tr>\n",
              "      <th>max</th>\n",
              "      <td>87.000000</td>\n",
              "      <td>2.000000</td>\n",
              "      <td>2.000000</td>\n",
              "      <td>2.000000</td>\n",
              "      <td>2.000000</td>\n",
              "      <td>2.000000</td>\n",
              "      <td>2.000000</td>\n",
              "      <td>2.000000</td>\n",
              "      <td>2.000000</td>\n",
              "      <td>2.000000</td>\n",
              "      <td>2.000000</td>\n",
              "      <td>2.000000</td>\n",
              "      <td>2.000000</td>\n",
              "      <td>2.000000</td>\n",
              "    </tr>\n",
              "  </tbody>\n",
              "</table>\n",
              "</div>\n",
              "      <button class=\"colab-df-convert\" onclick=\"convertToInteractive('df-5a4246ed-d6de-4a02-956f-a6240f2c0059')\"\n",
              "              title=\"Convert this dataframe to an interactive table.\"\n",
              "              style=\"display:none;\">\n",
              "\n",
              "  <svg xmlns=\"http://www.w3.org/2000/svg\" height=\"24px\"viewBox=\"0 0 24 24\"\n",
              "       width=\"24px\">\n",
              "    <path d=\"M0 0h24v24H0V0z\" fill=\"none\"/>\n",
              "    <path d=\"M18.56 5.44l.94 2.06.94-2.06 2.06-.94-2.06-.94-.94-2.06-.94 2.06-2.06.94zm-11 1L8.5 8.5l.94-2.06 2.06-.94-2.06-.94L8.5 2.5l-.94 2.06-2.06.94zm10 10l.94 2.06.94-2.06 2.06-.94-2.06-.94-.94-2.06-.94 2.06-2.06.94z\"/><path d=\"M17.41 7.96l-1.37-1.37c-.4-.4-.92-.59-1.43-.59-.52 0-1.04.2-1.43.59L10.3 9.45l-7.72 7.72c-.78.78-.78 2.05 0 2.83L4 21.41c.39.39.9.59 1.41.59.51 0 1.02-.2 1.41-.59l7.78-7.78 2.81-2.81c.8-.78.8-2.07 0-2.86zM5.41 20L4 18.59l7.72-7.72 1.47 1.35L5.41 20z\"/>\n",
              "  </svg>\n",
              "      </button>\n",
              "\n",
              "\n",
              "\n",
              "    <div id=\"df-c88d8702-0e31-411d-9832-337d6856a171\">\n",
              "      <button class=\"colab-df-quickchart\" onclick=\"quickchart('df-c88d8702-0e31-411d-9832-337d6856a171')\"\n",
              "              title=\"Suggest charts.\"\n",
              "              style=\"display:none;\">\n",
              "\n",
              "<svg xmlns=\"http://www.w3.org/2000/svg\" height=\"24px\"viewBox=\"0 0 24 24\"\n",
              "     width=\"24px\">\n",
              "    <g>\n",
              "        <path d=\"M19 3H5c-1.1 0-2 .9-2 2v14c0 1.1.9 2 2 2h14c1.1 0 2-.9 2-2V5c0-1.1-.9-2-2-2zM9 17H7v-7h2v7zm4 0h-2V7h2v10zm4 0h-2v-4h2v4z\"/>\n",
              "    </g>\n",
              "</svg>\n",
              "      </button>\n",
              "    </div>\n",
              "\n",
              "<style>\n",
              "  .colab-df-quickchart {\n",
              "    background-color: #E8F0FE;\n",
              "    border: none;\n",
              "    border-radius: 50%;\n",
              "    cursor: pointer;\n",
              "    display: none;\n",
              "    fill: #1967D2;\n",
              "    height: 32px;\n",
              "    padding: 0 0 0 0;\n",
              "    width: 32px;\n",
              "  }\n",
              "\n",
              "  .colab-df-quickchart:hover {\n",
              "    background-color: #E2EBFA;\n",
              "    box-shadow: 0px 1px 2px rgba(60, 64, 67, 0.3), 0px 1px 3px 1px rgba(60, 64, 67, 0.15);\n",
              "    fill: #174EA6;\n",
              "  }\n",
              "\n",
              "  [theme=dark] .colab-df-quickchart {\n",
              "    background-color: #3B4455;\n",
              "    fill: #D2E3FC;\n",
              "  }\n",
              "\n",
              "  [theme=dark] .colab-df-quickchart:hover {\n",
              "    background-color: #434B5C;\n",
              "    box-shadow: 0px 1px 3px 1px rgba(0, 0, 0, 0.15);\n",
              "    filter: drop-shadow(0px 1px 2px rgba(0, 0, 0, 0.3));\n",
              "    fill: #FFFFFF;\n",
              "  }\n",
              "</style>\n",
              "\n",
              "    <script>\n",
              "      async function quickchart(key) {\n",
              "        const containerElement = document.querySelector('#' + key);\n",
              "        const charts = await google.colab.kernel.invokeFunction(\n",
              "            'suggestCharts', [key], {});\n",
              "      }\n",
              "    </script>\n",
              "\n",
              "      <script>\n",
              "\n",
              "function displayQuickchartButton(domScope) {\n",
              "  let quickchartButtonEl =\n",
              "    domScope.querySelector('#df-c88d8702-0e31-411d-9832-337d6856a171 button.colab-df-quickchart');\n",
              "  quickchartButtonEl.style.display =\n",
              "    google.colab.kernel.accessAllowed ? 'block' : 'none';\n",
              "}\n",
              "\n",
              "        displayQuickchartButton(document);\n",
              "      </script>\n",
              "      <style>\n",
              "    .colab-df-container {\n",
              "      display:flex;\n",
              "      flex-wrap:wrap;\n",
              "      gap: 12px;\n",
              "    }\n",
              "\n",
              "    .colab-df-convert {\n",
              "      background-color: #E8F0FE;\n",
              "      border: none;\n",
              "      border-radius: 50%;\n",
              "      cursor: pointer;\n",
              "      display: none;\n",
              "      fill: #1967D2;\n",
              "      height: 32px;\n",
              "      padding: 0 0 0 0;\n",
              "      width: 32px;\n",
              "    }\n",
              "\n",
              "    .colab-df-convert:hover {\n",
              "      background-color: #E2EBFA;\n",
              "      box-shadow: 0px 1px 2px rgba(60, 64, 67, 0.3), 0px 1px 3px 1px rgba(60, 64, 67, 0.15);\n",
              "      fill: #174EA6;\n",
              "    }\n",
              "\n",
              "    [theme=dark] .colab-df-convert {\n",
              "      background-color: #3B4455;\n",
              "      fill: #D2E3FC;\n",
              "    }\n",
              "\n",
              "    [theme=dark] .colab-df-convert:hover {\n",
              "      background-color: #434B5C;\n",
              "      box-shadow: 0px 1px 3px 1px rgba(0, 0, 0, 0.15);\n",
              "      filter: drop-shadow(0px 1px 2px rgba(0, 0, 0, 0.3));\n",
              "      fill: #FFFFFF;\n",
              "    }\n",
              "  </style>\n",
              "\n",
              "      <script>\n",
              "        const buttonEl =\n",
              "          document.querySelector('#df-5a4246ed-d6de-4a02-956f-a6240f2c0059 button.colab-df-convert');\n",
              "        buttonEl.style.display =\n",
              "          google.colab.kernel.accessAllowed ? 'block' : 'none';\n",
              "\n",
              "        async function convertToInteractive(key) {\n",
              "          const element = document.querySelector('#df-5a4246ed-d6de-4a02-956f-a6240f2c0059');\n",
              "          const dataTable =\n",
              "            await google.colab.kernel.invokeFunction('convertToInteractive',\n",
              "                                                     [key], {});\n",
              "          if (!dataTable) return;\n",
              "\n",
              "          const docLinkHtml = 'Like what you see? Visit the ' +\n",
              "            '<a target=\"_blank\" href=https://colab.research.google.com/notebooks/data_table.ipynb>data table notebook</a>'\n",
              "            + ' to learn more about interactive tables.';\n",
              "          element.innerHTML = '';\n",
              "          dataTable['output_type'] = 'display_data';\n",
              "          await google.colab.output.renderOutput(dataTable, element);\n",
              "          const docLink = document.createElement('div');\n",
              "          docLink.innerHTML = docLinkHtml;\n",
              "          element.appendChild(docLink);\n",
              "        }\n",
              "      </script>\n",
              "    </div>\n",
              "  </div>\n"
            ]
          },
          "metadata": {},
          "execution_count": 13
        }
      ]
    },
    {
      "cell_type": "code",
      "source": [
        "data.shape"
      ],
      "metadata": {
        "colab": {
          "base_uri": "https://localhost:8080/"
        },
        "id": "f91BYygh0DZL",
        "outputId": "1a7ab679-dba3-477b-ee87-f70713d417fc"
      },
      "execution_count": 14,
      "outputs": [
        {
          "output_type": "execute_result",
          "data": {
            "text/plain": [
              "(309, 16)"
            ]
          },
          "metadata": {},
          "execution_count": 14
        }
      ]
    },
    {
      "cell_type": "markdown",
      "source": [
        "##Pre processing"
      ],
      "metadata": {
        "id": "c-c-0Jvp0Jh7"
      }
    },
    {
      "cell_type": "code",
      "source": [
        "data.rename(columns=str.lower, inplace=True)\n",
        "data.rename(columns={col: col.replace(\" \", \"_\") for col in data.columns}, inplace=True)"
      ],
      "metadata": {
        "id": "9cqLI23I0E4Q"
      },
      "execution_count": 15,
      "outputs": []
    },
    {
      "cell_type": "code",
      "source": [
        "data.columns"
      ],
      "metadata": {
        "colab": {
          "base_uri": "https://localhost:8080/"
        },
        "id": "mSX1gQzN0MR1",
        "outputId": "60a975d7-e1c7-4481-c72c-a3fc8c6e015d"
      },
      "execution_count": 16,
      "outputs": [
        {
          "output_type": "execute_result",
          "data": {
            "text/plain": [
              "Index(['gender', 'age', 'smoking', 'yellow_fingers', 'anxiety',\n",
              "       'peer_pressure', 'chronic_disease', 'fatigue_', 'allergy_', 'wheezing',\n",
              "       'alcohol_consuming', 'coughing', 'shortness_of_breath',\n",
              "       'swallowing_difficulty', 'chest_pain', 'lung_cancer'],\n",
              "      dtype='object')"
            ]
          },
          "metadata": {},
          "execution_count": 16
        }
      ]
    },
    {
      "cell_type": "code",
      "source": [
        "data.info()"
      ],
      "metadata": {
        "colab": {
          "base_uri": "https://localhost:8080/"
        },
        "id": "cQSaTrEd0O6a",
        "outputId": "77a85412-bd8e-4542-fef6-22db5e9dabe3"
      },
      "execution_count": 17,
      "outputs": [
        {
          "output_type": "stream",
          "name": "stdout",
          "text": [
            "<class 'pandas.core.frame.DataFrame'>\n",
            "RangeIndex: 309 entries, 0 to 308\n",
            "Data columns (total 16 columns):\n",
            " #   Column                 Non-Null Count  Dtype \n",
            "---  ------                 --------------  ----- \n",
            " 0   gender                 309 non-null    object\n",
            " 1   age                    309 non-null    int64 \n",
            " 2   smoking                309 non-null    int64 \n",
            " 3   yellow_fingers         309 non-null    int64 \n",
            " 4   anxiety                309 non-null    int64 \n",
            " 5   peer_pressure          309 non-null    int64 \n",
            " 6   chronic_disease        309 non-null    int64 \n",
            " 7   fatigue_               309 non-null    int64 \n",
            " 8   allergy_               309 non-null    int64 \n",
            " 9   wheezing               309 non-null    int64 \n",
            " 10  alcohol_consuming      309 non-null    int64 \n",
            " 11  coughing               309 non-null    int64 \n",
            " 12  shortness_of_breath    309 non-null    int64 \n",
            " 13  swallowing_difficulty  309 non-null    int64 \n",
            " 14  chest_pain             309 non-null    int64 \n",
            " 15  lung_cancer            309 non-null    object\n",
            "dtypes: int64(14), object(2)\n",
            "memory usage: 38.8+ KB\n"
          ]
        }
      ]
    },
    {
      "cell_type": "markdown",
      "source": [
        "###Checking of null values"
      ],
      "metadata": {
        "id": "n14cY7In0Wnj"
      }
    },
    {
      "cell_type": "code",
      "source": [
        "data.isnull().values.any()"
      ],
      "metadata": {
        "colab": {
          "base_uri": "https://localhost:8080/"
        },
        "id": "6YkBkIRl0S2G",
        "outputId": "9ba549eb-1282-4e40-cf25-efae6ede608b"
      },
      "execution_count": 18,
      "outputs": [
        {
          "output_type": "execute_result",
          "data": {
            "text/plain": [
              "False"
            ]
          },
          "metadata": {},
          "execution_count": 18
        }
      ]
    },
    {
      "cell_type": "markdown",
      "source": [
        "###Visualization of dataset"
      ],
      "metadata": {
        "id": "hH8JgMkJ0m3E"
      }
    },
    {
      "cell_type": "code",
      "source": [
        "data.corr()"
      ],
      "metadata": {
        "colab": {
          "base_uri": "https://localhost:8080/",
          "height": 587
        },
        "id": "G_AlpveG0Vnv",
        "outputId": "7615f672-f03a-44ad-8bde-7f6e677bb8e6"
      },
      "execution_count": 19,
      "outputs": [
        {
          "output_type": "stream",
          "name": "stderr",
          "text": [
            "<ipython-input-19-c44ded798807>:1: FutureWarning: The default value of numeric_only in DataFrame.corr is deprecated. In a future version, it will default to False. Select only valid columns or specify the value of numeric_only to silence this warning.\n",
            "  data.corr()\n"
          ]
        },
        {
          "output_type": "execute_result",
          "data": {
            "text/plain": [
              "                            age   smoking  yellow_fingers   anxiety  \\\n",
              "age                    1.000000 -0.084475        0.005205  0.053170   \n",
              "smoking               -0.084475  1.000000       -0.014585  0.160267   \n",
              "yellow_fingers         0.005205 -0.014585        1.000000  0.565829   \n",
              "anxiety                0.053170  0.160267        0.565829  1.000000   \n",
              "peer_pressure          0.018685 -0.042822        0.323083  0.216841   \n",
              "chronic_disease       -0.012642 -0.141522        0.041122 -0.009678   \n",
              "fatigue_               0.012614 -0.029575       -0.118058 -0.188538   \n",
              "allergy_               0.027990  0.001913       -0.144300 -0.165750   \n",
              "wheezing               0.055011 -0.129426       -0.078515 -0.191807   \n",
              "alcohol_consuming      0.058985 -0.050623       -0.289025 -0.165750   \n",
              "coughing               0.169950 -0.129471       -0.012640 -0.225644   \n",
              "shortness_of_breath   -0.017513  0.061264       -0.105944 -0.144077   \n",
              "swallowing_difficulty -0.001270  0.030718        0.345904  0.489403   \n",
              "chest_pain            -0.018104  0.120117       -0.104829 -0.113634   \n",
              "\n",
              "                       peer_pressure  chronic_disease  fatigue_  allergy_  \\\n",
              "age                         0.018685        -0.012642  0.012614  0.027990   \n",
              "smoking                    -0.042822        -0.141522 -0.029575  0.001913   \n",
              "yellow_fingers              0.323083         0.041122 -0.118058 -0.144300   \n",
              "anxiety                     0.216841        -0.009678 -0.188538 -0.165750   \n",
              "peer_pressure               1.000000         0.048515  0.078148 -0.081800   \n",
              "chronic_disease             0.048515         1.000000 -0.110529  0.106386   \n",
              "fatigue_                    0.078148        -0.110529  1.000000  0.003056   \n",
              "allergy_                   -0.081800         0.106386  0.003056  1.000000   \n",
              "wheezing                   -0.068771        -0.049967  0.141937  0.173867   \n",
              "alcohol_consuming          -0.159973         0.002150 -0.191377  0.344339   \n",
              "coughing                   -0.089019        -0.175287  0.146856  0.189524   \n",
              "shortness_of_breath        -0.220175        -0.026459  0.441745 -0.030056   \n",
              "swallowing_difficulty       0.366590         0.075176 -0.132790 -0.061508   \n",
              "chest_pain                 -0.094828        -0.036938 -0.010832  0.239433   \n",
              "\n",
              "                       wheezing  alcohol_consuming  coughing  \\\n",
              "age                    0.055011           0.058985  0.169950   \n",
              "smoking               -0.129426          -0.050623 -0.129471   \n",
              "yellow_fingers        -0.078515          -0.289025 -0.012640   \n",
              "anxiety               -0.191807          -0.165750 -0.225644   \n",
              "peer_pressure         -0.068771          -0.159973 -0.089019   \n",
              "chronic_disease       -0.049967           0.002150 -0.175287   \n",
              "fatigue_               0.141937          -0.191377  0.146856   \n",
              "allergy_               0.173867           0.344339  0.189524   \n",
              "wheezing               1.000000           0.265659  0.374265   \n",
              "alcohol_consuming      0.265659           1.000000  0.202720   \n",
              "coughing               0.374265           0.202720  1.000000   \n",
              "shortness_of_breath    0.037834          -0.179416  0.277385   \n",
              "swallowing_difficulty  0.069027          -0.009294 -0.157586   \n",
              "chest_pain             0.147640           0.331226  0.083958   \n",
              "\n",
              "                       shortness_of_breath  swallowing_difficulty  chest_pain  \n",
              "age                              -0.017513              -0.001270   -0.018104  \n",
              "smoking                           0.061264               0.030718    0.120117  \n",
              "yellow_fingers                   -0.105944               0.345904   -0.104829  \n",
              "anxiety                          -0.144077               0.489403   -0.113634  \n",
              "peer_pressure                    -0.220175               0.366590   -0.094828  \n",
              "chronic_disease                  -0.026459               0.075176   -0.036938  \n",
              "fatigue_                          0.441745              -0.132790   -0.010832  \n",
              "allergy_                         -0.030056              -0.061508    0.239433  \n",
              "wheezing                          0.037834               0.069027    0.147640  \n",
              "alcohol_consuming                -0.179416              -0.009294    0.331226  \n",
              "coughing                          0.277385              -0.157586    0.083958  \n",
              "shortness_of_breath               1.000000              -0.161015    0.024256  \n",
              "swallowing_difficulty            -0.161015               1.000000    0.069027  \n",
              "chest_pain                        0.024256               0.069027    1.000000  "
            ],
            "text/html": [
              "\n",
              "\n",
              "  <div id=\"df-b38b4df1-33a8-411c-ba43-8593e9b14202\">\n",
              "    <div class=\"colab-df-container\">\n",
              "      <div>\n",
              "<style scoped>\n",
              "    .dataframe tbody tr th:only-of-type {\n",
              "        vertical-align: middle;\n",
              "    }\n",
              "\n",
              "    .dataframe tbody tr th {\n",
              "        vertical-align: top;\n",
              "    }\n",
              "\n",
              "    .dataframe thead th {\n",
              "        text-align: right;\n",
              "    }\n",
              "</style>\n",
              "<table border=\"1\" class=\"dataframe\">\n",
              "  <thead>\n",
              "    <tr style=\"text-align: right;\">\n",
              "      <th></th>\n",
              "      <th>age</th>\n",
              "      <th>smoking</th>\n",
              "      <th>yellow_fingers</th>\n",
              "      <th>anxiety</th>\n",
              "      <th>peer_pressure</th>\n",
              "      <th>chronic_disease</th>\n",
              "      <th>fatigue_</th>\n",
              "      <th>allergy_</th>\n",
              "      <th>wheezing</th>\n",
              "      <th>alcohol_consuming</th>\n",
              "      <th>coughing</th>\n",
              "      <th>shortness_of_breath</th>\n",
              "      <th>swallowing_difficulty</th>\n",
              "      <th>chest_pain</th>\n",
              "    </tr>\n",
              "  </thead>\n",
              "  <tbody>\n",
              "    <tr>\n",
              "      <th>age</th>\n",
              "      <td>1.000000</td>\n",
              "      <td>-0.084475</td>\n",
              "      <td>0.005205</td>\n",
              "      <td>0.053170</td>\n",
              "      <td>0.018685</td>\n",
              "      <td>-0.012642</td>\n",
              "      <td>0.012614</td>\n",
              "      <td>0.027990</td>\n",
              "      <td>0.055011</td>\n",
              "      <td>0.058985</td>\n",
              "      <td>0.169950</td>\n",
              "      <td>-0.017513</td>\n",
              "      <td>-0.001270</td>\n",
              "      <td>-0.018104</td>\n",
              "    </tr>\n",
              "    <tr>\n",
              "      <th>smoking</th>\n",
              "      <td>-0.084475</td>\n",
              "      <td>1.000000</td>\n",
              "      <td>-0.014585</td>\n",
              "      <td>0.160267</td>\n",
              "      <td>-0.042822</td>\n",
              "      <td>-0.141522</td>\n",
              "      <td>-0.029575</td>\n",
              "      <td>0.001913</td>\n",
              "      <td>-0.129426</td>\n",
              "      <td>-0.050623</td>\n",
              "      <td>-0.129471</td>\n",
              "      <td>0.061264</td>\n",
              "      <td>0.030718</td>\n",
              "      <td>0.120117</td>\n",
              "    </tr>\n",
              "    <tr>\n",
              "      <th>yellow_fingers</th>\n",
              "      <td>0.005205</td>\n",
              "      <td>-0.014585</td>\n",
              "      <td>1.000000</td>\n",
              "      <td>0.565829</td>\n",
              "      <td>0.323083</td>\n",
              "      <td>0.041122</td>\n",
              "      <td>-0.118058</td>\n",
              "      <td>-0.144300</td>\n",
              "      <td>-0.078515</td>\n",
              "      <td>-0.289025</td>\n",
              "      <td>-0.012640</td>\n",
              "      <td>-0.105944</td>\n",
              "      <td>0.345904</td>\n",
              "      <td>-0.104829</td>\n",
              "    </tr>\n",
              "    <tr>\n",
              "      <th>anxiety</th>\n",
              "      <td>0.053170</td>\n",
              "      <td>0.160267</td>\n",
              "      <td>0.565829</td>\n",
              "      <td>1.000000</td>\n",
              "      <td>0.216841</td>\n",
              "      <td>-0.009678</td>\n",
              "      <td>-0.188538</td>\n",
              "      <td>-0.165750</td>\n",
              "      <td>-0.191807</td>\n",
              "      <td>-0.165750</td>\n",
              "      <td>-0.225644</td>\n",
              "      <td>-0.144077</td>\n",
              "      <td>0.489403</td>\n",
              "      <td>-0.113634</td>\n",
              "    </tr>\n",
              "    <tr>\n",
              "      <th>peer_pressure</th>\n",
              "      <td>0.018685</td>\n",
              "      <td>-0.042822</td>\n",
              "      <td>0.323083</td>\n",
              "      <td>0.216841</td>\n",
              "      <td>1.000000</td>\n",
              "      <td>0.048515</td>\n",
              "      <td>0.078148</td>\n",
              "      <td>-0.081800</td>\n",
              "      <td>-0.068771</td>\n",
              "      <td>-0.159973</td>\n",
              "      <td>-0.089019</td>\n",
              "      <td>-0.220175</td>\n",
              "      <td>0.366590</td>\n",
              "      <td>-0.094828</td>\n",
              "    </tr>\n",
              "    <tr>\n",
              "      <th>chronic_disease</th>\n",
              "      <td>-0.012642</td>\n",
              "      <td>-0.141522</td>\n",
              "      <td>0.041122</td>\n",
              "      <td>-0.009678</td>\n",
              "      <td>0.048515</td>\n",
              "      <td>1.000000</td>\n",
              "      <td>-0.110529</td>\n",
              "      <td>0.106386</td>\n",
              "      <td>-0.049967</td>\n",
              "      <td>0.002150</td>\n",
              "      <td>-0.175287</td>\n",
              "      <td>-0.026459</td>\n",
              "      <td>0.075176</td>\n",
              "      <td>-0.036938</td>\n",
              "    </tr>\n",
              "    <tr>\n",
              "      <th>fatigue_</th>\n",
              "      <td>0.012614</td>\n",
              "      <td>-0.029575</td>\n",
              "      <td>-0.118058</td>\n",
              "      <td>-0.188538</td>\n",
              "      <td>0.078148</td>\n",
              "      <td>-0.110529</td>\n",
              "      <td>1.000000</td>\n",
              "      <td>0.003056</td>\n",
              "      <td>0.141937</td>\n",
              "      <td>-0.191377</td>\n",
              "      <td>0.146856</td>\n",
              "      <td>0.441745</td>\n",
              "      <td>-0.132790</td>\n",
              "      <td>-0.010832</td>\n",
              "    </tr>\n",
              "    <tr>\n",
              "      <th>allergy_</th>\n",
              "      <td>0.027990</td>\n",
              "      <td>0.001913</td>\n",
              "      <td>-0.144300</td>\n",
              "      <td>-0.165750</td>\n",
              "      <td>-0.081800</td>\n",
              "      <td>0.106386</td>\n",
              "      <td>0.003056</td>\n",
              "      <td>1.000000</td>\n",
              "      <td>0.173867</td>\n",
              "      <td>0.344339</td>\n",
              "      <td>0.189524</td>\n",
              "      <td>-0.030056</td>\n",
              "      <td>-0.061508</td>\n",
              "      <td>0.239433</td>\n",
              "    </tr>\n",
              "    <tr>\n",
              "      <th>wheezing</th>\n",
              "      <td>0.055011</td>\n",
              "      <td>-0.129426</td>\n",
              "      <td>-0.078515</td>\n",
              "      <td>-0.191807</td>\n",
              "      <td>-0.068771</td>\n",
              "      <td>-0.049967</td>\n",
              "      <td>0.141937</td>\n",
              "      <td>0.173867</td>\n",
              "      <td>1.000000</td>\n",
              "      <td>0.265659</td>\n",
              "      <td>0.374265</td>\n",
              "      <td>0.037834</td>\n",
              "      <td>0.069027</td>\n",
              "      <td>0.147640</td>\n",
              "    </tr>\n",
              "    <tr>\n",
              "      <th>alcohol_consuming</th>\n",
              "      <td>0.058985</td>\n",
              "      <td>-0.050623</td>\n",
              "      <td>-0.289025</td>\n",
              "      <td>-0.165750</td>\n",
              "      <td>-0.159973</td>\n",
              "      <td>0.002150</td>\n",
              "      <td>-0.191377</td>\n",
              "      <td>0.344339</td>\n",
              "      <td>0.265659</td>\n",
              "      <td>1.000000</td>\n",
              "      <td>0.202720</td>\n",
              "      <td>-0.179416</td>\n",
              "      <td>-0.009294</td>\n",
              "      <td>0.331226</td>\n",
              "    </tr>\n",
              "    <tr>\n",
              "      <th>coughing</th>\n",
              "      <td>0.169950</td>\n",
              "      <td>-0.129471</td>\n",
              "      <td>-0.012640</td>\n",
              "      <td>-0.225644</td>\n",
              "      <td>-0.089019</td>\n",
              "      <td>-0.175287</td>\n",
              "      <td>0.146856</td>\n",
              "      <td>0.189524</td>\n",
              "      <td>0.374265</td>\n",
              "      <td>0.202720</td>\n",
              "      <td>1.000000</td>\n",
              "      <td>0.277385</td>\n",
              "      <td>-0.157586</td>\n",
              "      <td>0.083958</td>\n",
              "    </tr>\n",
              "    <tr>\n",
              "      <th>shortness_of_breath</th>\n",
              "      <td>-0.017513</td>\n",
              "      <td>0.061264</td>\n",
              "      <td>-0.105944</td>\n",
              "      <td>-0.144077</td>\n",
              "      <td>-0.220175</td>\n",
              "      <td>-0.026459</td>\n",
              "      <td>0.441745</td>\n",
              "      <td>-0.030056</td>\n",
              "      <td>0.037834</td>\n",
              "      <td>-0.179416</td>\n",
              "      <td>0.277385</td>\n",
              "      <td>1.000000</td>\n",
              "      <td>-0.161015</td>\n",
              "      <td>0.024256</td>\n",
              "    </tr>\n",
              "    <tr>\n",
              "      <th>swallowing_difficulty</th>\n",
              "      <td>-0.001270</td>\n",
              "      <td>0.030718</td>\n",
              "      <td>0.345904</td>\n",
              "      <td>0.489403</td>\n",
              "      <td>0.366590</td>\n",
              "      <td>0.075176</td>\n",
              "      <td>-0.132790</td>\n",
              "      <td>-0.061508</td>\n",
              "      <td>0.069027</td>\n",
              "      <td>-0.009294</td>\n",
              "      <td>-0.157586</td>\n",
              "      <td>-0.161015</td>\n",
              "      <td>1.000000</td>\n",
              "      <td>0.069027</td>\n",
              "    </tr>\n",
              "    <tr>\n",
              "      <th>chest_pain</th>\n",
              "      <td>-0.018104</td>\n",
              "      <td>0.120117</td>\n",
              "      <td>-0.104829</td>\n",
              "      <td>-0.113634</td>\n",
              "      <td>-0.094828</td>\n",
              "      <td>-0.036938</td>\n",
              "      <td>-0.010832</td>\n",
              "      <td>0.239433</td>\n",
              "      <td>0.147640</td>\n",
              "      <td>0.331226</td>\n",
              "      <td>0.083958</td>\n",
              "      <td>0.024256</td>\n",
              "      <td>0.069027</td>\n",
              "      <td>1.000000</td>\n",
              "    </tr>\n",
              "  </tbody>\n",
              "</table>\n",
              "</div>\n",
              "      <button class=\"colab-df-convert\" onclick=\"convertToInteractive('df-b38b4df1-33a8-411c-ba43-8593e9b14202')\"\n",
              "              title=\"Convert this dataframe to an interactive table.\"\n",
              "              style=\"display:none;\">\n",
              "\n",
              "  <svg xmlns=\"http://www.w3.org/2000/svg\" height=\"24px\"viewBox=\"0 0 24 24\"\n",
              "       width=\"24px\">\n",
              "    <path d=\"M0 0h24v24H0V0z\" fill=\"none\"/>\n",
              "    <path d=\"M18.56 5.44l.94 2.06.94-2.06 2.06-.94-2.06-.94-.94-2.06-.94 2.06-2.06.94zm-11 1L8.5 8.5l.94-2.06 2.06-.94-2.06-.94L8.5 2.5l-.94 2.06-2.06.94zm10 10l.94 2.06.94-2.06 2.06-.94-2.06-.94-.94-2.06-.94 2.06-2.06.94z\"/><path d=\"M17.41 7.96l-1.37-1.37c-.4-.4-.92-.59-1.43-.59-.52 0-1.04.2-1.43.59L10.3 9.45l-7.72 7.72c-.78.78-.78 2.05 0 2.83L4 21.41c.39.39.9.59 1.41.59.51 0 1.02-.2 1.41-.59l7.78-7.78 2.81-2.81c.8-.78.8-2.07 0-2.86zM5.41 20L4 18.59l7.72-7.72 1.47 1.35L5.41 20z\"/>\n",
              "  </svg>\n",
              "      </button>\n",
              "\n",
              "\n",
              "\n",
              "    <div id=\"df-411b7e41-6af8-40a1-988d-3bc26bd232d5\">\n",
              "      <button class=\"colab-df-quickchart\" onclick=\"quickchart('df-411b7e41-6af8-40a1-988d-3bc26bd232d5')\"\n",
              "              title=\"Suggest charts.\"\n",
              "              style=\"display:none;\">\n",
              "\n",
              "<svg xmlns=\"http://www.w3.org/2000/svg\" height=\"24px\"viewBox=\"0 0 24 24\"\n",
              "     width=\"24px\">\n",
              "    <g>\n",
              "        <path d=\"M19 3H5c-1.1 0-2 .9-2 2v14c0 1.1.9 2 2 2h14c1.1 0 2-.9 2-2V5c0-1.1-.9-2-2-2zM9 17H7v-7h2v7zm4 0h-2V7h2v10zm4 0h-2v-4h2v4z\"/>\n",
              "    </g>\n",
              "</svg>\n",
              "      </button>\n",
              "    </div>\n",
              "\n",
              "<style>\n",
              "  .colab-df-quickchart {\n",
              "    background-color: #E8F0FE;\n",
              "    border: none;\n",
              "    border-radius: 50%;\n",
              "    cursor: pointer;\n",
              "    display: none;\n",
              "    fill: #1967D2;\n",
              "    height: 32px;\n",
              "    padding: 0 0 0 0;\n",
              "    width: 32px;\n",
              "  }\n",
              "\n",
              "  .colab-df-quickchart:hover {\n",
              "    background-color: #E2EBFA;\n",
              "    box-shadow: 0px 1px 2px rgba(60, 64, 67, 0.3), 0px 1px 3px 1px rgba(60, 64, 67, 0.15);\n",
              "    fill: #174EA6;\n",
              "  }\n",
              "\n",
              "  [theme=dark] .colab-df-quickchart {\n",
              "    background-color: #3B4455;\n",
              "    fill: #D2E3FC;\n",
              "  }\n",
              "\n",
              "  [theme=dark] .colab-df-quickchart:hover {\n",
              "    background-color: #434B5C;\n",
              "    box-shadow: 0px 1px 3px 1px rgba(0, 0, 0, 0.15);\n",
              "    filter: drop-shadow(0px 1px 2px rgba(0, 0, 0, 0.3));\n",
              "    fill: #FFFFFF;\n",
              "  }\n",
              "</style>\n",
              "\n",
              "    <script>\n",
              "      async function quickchart(key) {\n",
              "        const containerElement = document.querySelector('#' + key);\n",
              "        const charts = await google.colab.kernel.invokeFunction(\n",
              "            'suggestCharts', [key], {});\n",
              "      }\n",
              "    </script>\n",
              "\n",
              "      <script>\n",
              "\n",
              "function displayQuickchartButton(domScope) {\n",
              "  let quickchartButtonEl =\n",
              "    domScope.querySelector('#df-411b7e41-6af8-40a1-988d-3bc26bd232d5 button.colab-df-quickchart');\n",
              "  quickchartButtonEl.style.display =\n",
              "    google.colab.kernel.accessAllowed ? 'block' : 'none';\n",
              "}\n",
              "\n",
              "        displayQuickchartButton(document);\n",
              "      </script>\n",
              "      <style>\n",
              "    .colab-df-container {\n",
              "      display:flex;\n",
              "      flex-wrap:wrap;\n",
              "      gap: 12px;\n",
              "    }\n",
              "\n",
              "    .colab-df-convert {\n",
              "      background-color: #E8F0FE;\n",
              "      border: none;\n",
              "      border-radius: 50%;\n",
              "      cursor: pointer;\n",
              "      display: none;\n",
              "      fill: #1967D2;\n",
              "      height: 32px;\n",
              "      padding: 0 0 0 0;\n",
              "      width: 32px;\n",
              "    }\n",
              "\n",
              "    .colab-df-convert:hover {\n",
              "      background-color: #E2EBFA;\n",
              "      box-shadow: 0px 1px 2px rgba(60, 64, 67, 0.3), 0px 1px 3px 1px rgba(60, 64, 67, 0.15);\n",
              "      fill: #174EA6;\n",
              "    }\n",
              "\n",
              "    [theme=dark] .colab-df-convert {\n",
              "      background-color: #3B4455;\n",
              "      fill: #D2E3FC;\n",
              "    }\n",
              "\n",
              "    [theme=dark] .colab-df-convert:hover {\n",
              "      background-color: #434B5C;\n",
              "      box-shadow: 0px 1px 3px 1px rgba(0, 0, 0, 0.15);\n",
              "      filter: drop-shadow(0px 1px 2px rgba(0, 0, 0, 0.3));\n",
              "      fill: #FFFFFF;\n",
              "    }\n",
              "  </style>\n",
              "\n",
              "      <script>\n",
              "        const buttonEl =\n",
              "          document.querySelector('#df-b38b4df1-33a8-411c-ba43-8593e9b14202 button.colab-df-convert');\n",
              "        buttonEl.style.display =\n",
              "          google.colab.kernel.accessAllowed ? 'block' : 'none';\n",
              "\n",
              "        async function convertToInteractive(key) {\n",
              "          const element = document.querySelector('#df-b38b4df1-33a8-411c-ba43-8593e9b14202');\n",
              "          const dataTable =\n",
              "            await google.colab.kernel.invokeFunction('convertToInteractive',\n",
              "                                                     [key], {});\n",
              "          if (!dataTable) return;\n",
              "\n",
              "          const docLinkHtml = 'Like what you see? Visit the ' +\n",
              "            '<a target=\"_blank\" href=https://colab.research.google.com/notebooks/data_table.ipynb>data table notebook</a>'\n",
              "            + ' to learn more about interactive tables.';\n",
              "          element.innerHTML = '';\n",
              "          dataTable['output_type'] = 'display_data';\n",
              "          await google.colab.output.renderOutput(dataTable, element);\n",
              "          const docLink = document.createElement('div');\n",
              "          docLink.innerHTML = docLinkHtml;\n",
              "          element.appendChild(docLink);\n",
              "        }\n",
              "      </script>\n",
              "    </div>\n",
              "  </div>\n"
            ]
          },
          "metadata": {},
          "execution_count": 19
        }
      ]
    },
    {
      "cell_type": "code",
      "source": [
        "dataplot = sns.heatmap(data.corr(), cmap=\"YlGnBu\")\n",
        "plt.show()"
      ],
      "metadata": {
        "colab": {
          "base_uri": "https://localhost:8080/",
          "height": 620
        },
        "id": "4tfrZ8gw0cjW",
        "outputId": "4eb53b72-a8df-412c-f57a-c4a48af2d19f"
      },
      "execution_count": 20,
      "outputs": [
        {
          "output_type": "stream",
          "name": "stderr",
          "text": [
            "<ipython-input-20-c0fb2fe747fb>:1: FutureWarning: The default value of numeric_only in DataFrame.corr is deprecated. In a future version, it will default to False. Select only valid columns or specify the value of numeric_only to silence this warning.\n",
            "  dataplot = sns.heatmap(data.corr(), cmap=\"YlGnBu\")\n"
          ]
        },
        {
          "output_type": "display_data",
          "data": {
            "text/plain": [
              "<Figure size 640x480 with 2 Axes>"
            ],
            "image/png": "[encoded data removed]"
          },
          "metadata": {}
        }
      ]
    },
    {
      "cell_type": "markdown",
      "source": [
        "###Transforming the target column the dataset into categorical form"
      ],
      "metadata": {
        "id": "qwytxo7r03pP"
      }
    },
    {
      "cell_type": "code",
      "source": [
        "data['lung_cancer'].replace({'YES':1,'NO':0},inplace=True)"
      ],
      "metadata": {
        "id": "oleUJQiW0e3u"
      },
      "execution_count": 21,
      "outputs": []
    },
    {
      "cell_type": "markdown",
      "source": [
        "###Revmoving the object column and target columns from the main dataframe and loading a separate dataframe which contains the target value"
      ],
      "metadata": {
        "id": "LqcWg_je0_cP"
      }
    },
    {
      "cell_type": "code",
      "source": [
        "X = data.drop(columns=['gender','lung_cancer'],axis=1)\n",
        "\n",
        "y = data['lung_cancer']\n",
        "#keeping the 'lung_cancer' as target column"
      ],
      "metadata": {
        "id": "BkThWr5W07Ep"
      },
      "execution_count": 22,
      "outputs": []
    },
    {
      "cell_type": "code",
      "source": [
        "X_train, X_test, y_train, y_test = train_test_split(X, y, test_size=0.3, random_state=40)"
      ],
      "metadata": {
        "id": "2Nn1oW2z0-da"
      },
      "execution_count": 23,
      "outputs": []
    },
    {
      "cell_type": "markdown",
      "source": [
        "##Performing KNN Algorithm"
      ],
      "metadata": {
        "id": "uLphdISf1SK3"
      }
    },
    {
      "cell_type": "code",
      "source": [
        "k_values = [i for i in range (1,31)]\n",
        "scores = []\n",
        "\n",
        "\n",
        "for k in k_values:\n",
        "    knn = KNeighborsClassifier(n_neighbors=k)\n",
        "    knn.fit(X_train, y_train)\n",
        "    y_pred = knn.predict(X_test)\n",
        "    accuracy = accuracy_score(y_test, y_pred)\n",
        "    scores.append(accuracy)\n",
        "\n",
        "print(scores)\n",
        "\n",
        "sns.lineplot(x = k_values, y = scores, marker = 'o')\n",
        "plt.xlabel(\"K Values\")\n",
        "plt.ylabel(\"Accuracy Score\")"
      ],
      "metadata": {
        "colab": {
          "base_uri": "https://localhost:8080/",
          "height": 504
        },
        "id": "lBNwsJGE1P7W",
        "outputId": "5674b51c-7d21-4c44-df38-598a6313e06c"
      },
      "execution_count": 24,
      "outputs": [
        {
          "output_type": "stream",
          "name": "stdout",
          "text": [
            "[0.8817204301075269, 0.8709677419354839, 0.9032258064516129, 0.9032258064516129, 0.8817204301075269, 0.8709677419354839, 0.8817204301075269, 0.8817204301075269, 0.8709677419354839, 0.8709677419354839, 0.8709677419354839, 0.8709677419354839, 0.8709677419354839, 0.8709677419354839, 0.8709677419354839, 0.8709677419354839, 0.8709677419354839, 0.8709677419354839, 0.8709677419354839, 0.8709677419354839, 0.8709677419354839, 0.8709677419354839, 0.8709677419354839, 0.8709677419354839, 0.8709677419354839, 0.8709677419354839, 0.8709677419354839, 0.8709677419354839, 0.8709677419354839, 0.8709677419354839]\n"
          ]
        },
        {
          "output_type": "execute_result",
          "data": {
            "text/plain": [
              "Text(0, 0.5, 'Accuracy Score')"
            ]
          },
          "metadata": {},
          "execution_count": 24
        },
        {
          "output_type": "display_data",
          "data": {
            "text/plain": [
              "<Figure size 640x480 with 1 Axes>"
            ],
            "image/png": "[encoded data removed]"
          },
          "metadata": {}
        }
      ]
    },
    {
      "cell_type": "markdown",
      "source": [
        "We see that acuuracy is 1 till neighbor is 7. But we know that in ml an accuracy 1 may mean that our model is overfit. Thus we use n_neighbors=8 to train our model."
      ],
      "metadata": {
        "id": "WRZbGRuM1aGO"
      }
    },
    {
      "cell_type": "code",
      "source": [
        "knn = KNeighborsClassifier(n_neighbors=8,metric=\"minkowski\")\n",
        "knn.fit(X_train, y_train)\n",
        "y_pred = knn.predict(X_test)\n",
        "accuracy = accuracy_score(y_test, y_pred)\n",
        "print (\"Accuracy : %s\" % \"{0:.3%}\".format(accuracy))"
      ],
      "metadata": {
        "colab": {
          "base_uri": "https://localhost:8080/"
        },
        "id": "4krf3CvC1N2y",
        "outputId": "cee122cf-1396-4e83-b213-05cc036e77ca"
      },
      "execution_count": 25,
      "outputs": [
        {
          "output_type": "stream",
          "name": "stdout",
          "text": [
            "Accuracy : 88.172%\n"
          ]
        }
      ]
    },
    {
      "cell_type": "code",
      "source": [
        "knn = KNeighborsClassifier(n_neighbors=8,metric=\"manhattan\")\n",
        "knn.fit(X_train, y_train)\n",
        "y_pred = knn.predict(X_test)\n",
        "accuracy = accuracy_score(y_test, y_pred)\n",
        "print (\"Accuracy : %s\" % \"{0:.3%}\".format(accuracy))"
      ],
      "metadata": {
        "colab": {
          "base_uri": "https://localhost:8080/"
        },
        "id": "8-ZB9faZ1sL2",
        "outputId": "0eabaaab-fb7b-4662-bdf2-30f1b23b877b"
      },
      "execution_count": 26,
      "outputs": [
        {
          "output_type": "stream",
          "name": "stdout",
          "text": [
            "Accuracy : 87.097%\n"
          ]
        }
      ]
    },
    {
      "cell_type": "code",
      "source": [
        "knn = KNeighborsClassifier(n_neighbors=8,metric=\"euclidean\")\n",
        "knn.fit(X_train, y_train)\n",
        "y_pred = knn.predict(X_test)\n",
        "accuracy = accuracy_score(y_test, y_pred)\n",
        "print (\"Accuracy : %s\" % \"{0:.3%}\".format(accuracy))"
      ],
      "metadata": {
        "colab": {
          "base_uri": "https://localhost:8080/"
        },
        "id": "F_-0v7Wc16rx",
        "outputId": "b8ce4ea3-c6e5-4faf-fb88-b7f13df67797"
      },
      "execution_count": 27,
      "outputs": [
        {
          "output_type": "stream",
          "name": "stdout",
          "text": [
            "Accuracy : 88.172%\n"
          ]
        }
      ]
    },
    {
      "cell_type": "markdown",
      "source": [
        "#Distance Measure"
      ],
      "metadata": {
        "id": "lFOVueXn2aIH"
      }
    },
    {
      "cell_type": "code",
      "source": [
        "data1 = data.drop(columns=['gender'],axis=1)\n",
        "data1=data1.head(10)"
      ],
      "metadata": {
        "id": "qIbP_Xcq5Iu2"
      },
      "execution_count": 29,
      "outputs": []
    },
    {
      "cell_type": "markdown",
      "source": [
        "##Euclidean Distance Measure"
      ],
      "metadata": {
        "id": "Z0WtFBCy3hQO"
      }
    },
    {
      "cell_type": "code",
      "source": [
        "import math\n",
        "\n",
        "def euclidean_distance(point1, point2):\n",
        "    distance = 0\n",
        "    for i in range(len(point1)):\n",
        "        distance += (point1[i] - point2[i]) ** 2\n",
        "    return math.sqrt(distance)\n",
        "\n",
        "def calculate_distances_euclidean(dataset):\n",
        "    distances = []\n",
        "    for i in range(len(dataset)):\n",
        "        for j in range(i + 1, len(dataset)):\n",
        "            distance = euclidean_distance(dataset.iloc[i], dataset.iloc[j])\n",
        "            distances.append((i, j, distance))\n",
        "    return distances\n",
        "\n",
        "distances = calculate_distances_euclidean(data1)\n",
        "for i, j, distance in distances:\n",
        "   print(f\"The Euclidean distance between sample {i+1} and sample {j+1} is {distance:.2f}\")"
      ],
      "metadata": {
        "colab": {
          "base_uri": "https://localhost:8080/"
        },
        "id": "WbpFmzRh1937",
        "outputId": "d5a2df37-6a49-488a-c459-5ff41753bdef"
      },
      "execution_count": 30,
      "outputs": [
        {
          "output_type": "stream",
          "name": "stdout",
          "text": [
            "The Euclidean distance between sample 1 and sample 2 is 5.74\n",
            "The Euclidean distance between sample 1 and sample 3 is 10.30\n",
            "The Euclidean distance between sample 1 and sample 4 is 6.48\n",
            "The Euclidean distance between sample 1 and sample 5 is 6.48\n",
            "The Euclidean distance between sample 1 and sample 6 is 6.48\n",
            "The Euclidean distance between sample 1 and sample 7 is 17.12\n",
            "The Euclidean distance between sample 1 and sample 8 is 18.19\n",
            "The Euclidean distance between sample 1 and sample 9 is 3.16\n",
            "The Euclidean distance between sample 1 and sample 10 is 16.25\n",
            "The Euclidean distance between sample 2 and sample 3 is 15.26\n",
            "The Euclidean distance between sample 2 and sample 4 is 11.36\n",
            "The Euclidean distance between sample 2 and sample 5 is 11.45\n",
            "The Euclidean distance between sample 2 and sample 6 is 2.65\n",
            "The Euclidean distance between sample 2 and sample 7 is 22.14\n",
            "The Euclidean distance between sample 2 and sample 8 is 23.11\n",
            "The Euclidean distance between sample 2 and sample 9 is 6.56\n",
            "The Euclidean distance between sample 2 and sample 10 is 21.14\n",
            "The Euclidean distance between sample 3 and sample 4 is 5.10\n",
            "The Euclidean distance between sample 3 and sample 5 is 4.47\n",
            "The Euclidean distance between sample 3 and sample 6 is 16.19\n",
            "The Euclidean distance between sample 3 and sample 7 is 7.28\n",
            "The Euclidean distance between sample 3 and sample 8 is 8.54\n",
            "The Euclidean distance between sample 3 and sample 9 is 9.38\n",
            "The Euclidean distance between sample 3 and sample 10 is 6.93\n",
            "The Euclidean distance between sample 4 and sample 5 is 2.83\n",
            "The Euclidean distance between sample 4 and sample 6 is 12.49\n",
            "The Euclidean distance between sample 4 and sample 7 is 11.36\n",
            "The Euclidean distance between sample 4 and sample 8 is 12.29\n",
            "The Euclidean distance between sample 4 and sample 9 is 5.48\n",
            "The Euclidean distance between sample 4 and sample 10 is 10.20\n",
            "The Euclidean distance between sample 5 and sample 6 is 12.17\n",
            "The Euclidean distance between sample 5 and sample 7 is 11.27\n",
            "The Euclidean distance between sample 5 and sample 8 is 12.37\n",
            "The Euclidean distance between sample 5 and sample 9 is 5.66\n",
            "The Euclidean distance between sample 5 and sample 10 is 10.58\n",
            "The Euclidean distance between sample 6 and sample 7 is 23.13\n",
            "The Euclidean distance between sample 6 and sample 8 is 24.15\n",
            "The Euclidean distance between sample 6 and sample 9 is 7.62\n",
            "The Euclidean distance between sample 6 and sample 10 is 22.23\n",
            "The Euclidean distance between sample 7 and sample 8 is 3.16\n",
            "The Euclidean distance between sample 7 and sample 9 is 16.22\n",
            "The Euclidean distance between sample 7 and sample 10 is 3.32\n",
            "The Euclidean distance between sample 8 and sample 9 is 17.18\n",
            "The Euclidean distance between sample 8 and sample 10 is 3.00\n",
            "The Euclidean distance between sample 9 and sample 10 is 15.30\n"
          ]
        }
      ]
    },
    {
      "cell_type": "markdown",
      "source": [
        "##Manhattan Distance Measure"
      ],
      "metadata": {
        "id": "wojxzRd42w_4"
      }
    },
    {
      "cell_type": "code",
      "source": [
        "def manhattan_distance(point1, point2):\n",
        "    distance = 0\n",
        "    for i in range(len(point1)):\n",
        "        distance += abs(point1[i] - point2[i])\n",
        "    return distance\n",
        "\n",
        "def calculate_distances_manhattan(dataset):\n",
        "    distances = []\n",
        "    for i in range(len(dataset)):\n",
        "        for j in range(i + 1, len(dataset)):\n",
        "            distance = manhattan_distance(dataset.iloc[i], dataset.iloc[j])\n",
        "            distances.append((i, j, distance))\n",
        "    return distances\n",
        "\n",
        "distances = calculate_distances_manhattan(data1)\n",
        "for i, j, distance in distances:\n",
        "   print(f\"The Manhattan distance between sample {i+1} and sample {j+1} is {distance:.2f}\")"
      ],
      "metadata": {
        "colab": {
          "base_uri": "https://localhost:8080/"
        },
        "id": "tbItNDD2339U",
        "outputId": "14deb17f-cff1-4c40-990e-823572686ed2"
      },
      "execution_count": 31,
      "outputs": [
        {
          "output_type": "stream",
          "name": "stdout",
          "text": [
            "The Manhattan distance between sample 1 and sample 2 is 13.00\n",
            "The Manhattan distance between sample 1 and sample 3 is 16.00\n",
            "The Manhattan distance between sample 1 and sample 4 is 12.00\n",
            "The Manhattan distance between sample 1 and sample 5 is 12.00\n",
            "The Manhattan distance between sample 1 and sample 6 is 12.00\n",
            "The Manhattan distance between sample 1 and sample 7 is 21.00\n",
            "The Manhattan distance between sample 1 and sample 8 is 25.00\n",
            "The Manhattan distance between sample 1 and sample 9 is 10.00\n",
            "The Manhattan distance between sample 1 and sample 10 is 24.00\n",
            "The Manhattan distance between sample 2 and sample 3 is 23.00\n",
            "The Manhattan distance between sample 2 and sample 4 is 19.00\n",
            "The Manhattan distance between sample 2 and sample 5 is 21.00\n",
            "The Manhattan distance between sample 2 and sample 6 is 7.00\n",
            "The Manhattan distance between sample 2 and sample 7 is 28.00\n",
            "The Manhattan distance between sample 2 and sample 8 is 28.00\n",
            "The Manhattan distance between sample 2 and sample 9 is 13.00\n",
            "The Manhattan distance between sample 2 and sample 10 is 27.00\n",
            "The Manhattan distance between sample 3 and sample 4 is 14.00\n",
            "The Manhattan distance between sample 3 and sample 5 is 8.00\n",
            "The Manhattan distance between sample 3 and sample 6 is 22.00\n",
            "The Manhattan distance between sample 3 and sample 7 is 11.00\n",
            "The Manhattan distance between sample 3 and sample 8 is 17.00\n",
            "The Manhattan distance between sample 3 and sample 9 is 16.00\n",
            "The Manhattan distance between sample 3 and sample 10 is 18.00\n",
            "The Manhattan distance between sample 4 and sample 5 is 8.00\n",
            "The Manhattan distance between sample 4 and sample 6 is 24.00\n",
            "The Manhattan distance between sample 4 and sample 7 is 19.00\n",
            "The Manhattan distance between sample 4 and sample 8 is 19.00\n",
            "The Manhattan distance between sample 4 and sample 9 is 10.00\n",
            "The Manhattan distance between sample 4 and sample 10 is 14.00\n",
            "The Manhattan distance between sample 5 and sample 6 is 16.00\n",
            "The Manhattan distance between sample 5 and sample 7 is 17.00\n",
            "The Manhattan distance between sample 5 and sample 8 is 21.00\n",
            "The Manhattan distance between sample 5 and sample 9 is 12.00\n",
            "The Manhattan distance between sample 5 and sample 10 is 22.00\n",
            "The Manhattan distance between sample 6 and sample 7 is 29.00\n",
            "The Manhattan distance between sample 6 and sample 8 is 31.00\n",
            "The Manhattan distance between sample 6 and sample 9 is 16.00\n",
            "The Manhattan distance between sample 6 and sample 10 is 32.00\n",
            "The Manhattan distance between sample 7 and sample 8 is 10.00\n",
            "The Manhattan distance between sample 7 and sample 9 is 23.00\n",
            "The Manhattan distance between sample 7 and sample 10 is 11.00\n",
            "The Manhattan distance between sample 8 and sample 9 is 23.00\n",
            "The Manhattan distance between sample 8 and sample 10 is 7.00\n",
            "The Manhattan distance between sample 9 and sample 10 is 24.00\n"
          ]
        }
      ]
    },
    {
      "cell_type": "markdown",
      "source": [
        "##Minkowski Dustance Measure"
      ],
      "metadata": {
        "id": "cgFrADD13dQn"
      }
    },
    {
      "cell_type": "code",
      "source": [
        "def minkowski_distance(point1, point2, p):\n",
        "    distance = 0\n",
        "    for i in range(len(point1)):\n",
        "        distance += abs(point1[i] - point2[i]) ** p\n",
        "    return distance ** (1 / p)\n",
        "\n",
        "def calculate_distances_minkowski(dataset, p):\n",
        "    distances = []\n",
        "    for i in range(len(dataset)):\n",
        "        for j in range(i + 1, len(dataset)):\n",
        "            distance = minkowski_distance(dataset.iloc[i], dataset.iloc[j], p)\n",
        "            distances.append((i, j, distance))\n",
        "    return distances\n",
        "\n",
        "p = 3  # Minkowski distance parameter, replace with the desired value\n",
        "distances = calculate_distances_minkowski(data1,p)\n",
        "for i, j, distance in distances:\n",
        "   print(f\"The Minkowski distance between sample {i+1} and sample {j+1} is {distance:.2f}\")"
      ],
      "metadata": {
        "colab": {
          "base_uri": "https://localhost:8080/"
        },
        "id": "PPunpCei5t51",
        "outputId": "d51fb355-a329-4d93-83e0-e6de6c0bc9af"
      },
      "execution_count": 32,
      "outputs": [
        {
          "output_type": "stream",
          "name": "stdout",
          "text": [
            "The Minkowski distance between sample 1 and sample 2 is 5.10\n",
            "The Minkowski distance between sample 1 and sample 3 is 10.02\n",
            "The Minkowski distance between sample 1 and sample 4 is 6.06\n",
            "The Minkowski distance between sample 1 and sample 5 is 6.06\n",
            "The Minkowski distance between sample 1 and sample 6 is 6.06\n",
            "The Minkowski distance between sample 1 and sample 7 is 17.00\n",
            "The Minkowski distance between sample 1 and sample 8 is 18.01\n",
            "The Minkowski distance between sample 1 and sample 9 is 2.15\n",
            "The Minkowski distance between sample 1 and sample 10 is 16.01\n",
            "The Minkowski distance between sample 2 and sample 3 is 15.01\n",
            "The Minkowski distance between sample 2 and sample 4 is 11.02\n",
            "The Minkowski distance between sample 2 and sample 5 is 11.03\n",
            "The Minkowski distance between sample 2 and sample 6 is 1.91\n",
            "The Minkowski distance between sample 2 and sample 7 is 22.00\n",
            "The Minkowski distance between sample 2 and sample 8 is 23.00\n",
            "The Minkowski distance between sample 2 and sample 9 is 6.06\n",
            "The Minkowski distance between sample 2 and sample 10 is 21.00\n",
            "The Minkowski distance between sample 3 and sample 4 is 4.20\n",
            "The Minkowski distance between sample 3 and sample 5 is 4.08\n",
            "The Minkowski distance between sample 3 and sample 6 is 16.01\n",
            "The Minkowski distance between sample 3 and sample 7 is 7.03\n",
            "The Minkowski distance between sample 3 and sample 8 is 8.05\n",
            "The Minkowski distance between sample 3 and sample 9 is 9.03\n",
            "The Minkowski distance between sample 3 and sample 10 is 6.11\n",
            "The Minkowski distance between sample 4 and sample 5 is 2.00\n",
            "The Minkowski distance between sample 4 and sample 6 is 12.03\n",
            "The Minkowski distance between sample 4 and sample 7 is 11.02\n",
            "The Minkowski distance between sample 4 and sample 8 is 12.02\n",
            "The Minkowski distance between sample 4 and sample 9 is 5.07\n",
            "The Minkowski distance between sample 4 and sample 10 is 10.01\n",
            "The Minkowski distance between sample 5 and sample 6 is 12.01\n",
            "The Minkowski distance between sample 5 and sample 7 is 11.02\n",
            "The Minkowski distance between sample 5 and sample 8 is 12.02\n",
            "The Minkowski distance between sample 5 and sample 9 is 5.09\n",
            "The Minkowski distance between sample 5 and sample 10 is 10.04\n",
            "The Minkowski distance between sample 6 and sample 7 is 23.00\n",
            "The Minkowski distance between sample 6 and sample 8 is 24.00\n",
            "The Minkowski distance between sample 6 and sample 9 is 7.06\n",
            "The Minkowski distance between sample 6 and sample 10 is 22.01\n",
            "The Minkowski distance between sample 7 and sample 8 is 2.15\n",
            "The Minkowski distance between sample 7 and sample 9 is 16.01\n",
            "The Minkowski distance between sample 7 and sample 10 is 2.22\n",
            "The Minkowski distance between sample 8 and sample 9 is 17.01\n",
            "The Minkowski distance between sample 8 and sample 10 is 2.35\n",
            "The Minkowski distance between sample 9 and sample 10 is 15.01\n"
          ]
        }
      ]
    },
    {
      "cell_type": "code",
      "source": [],
      "metadata": {
        "id": "TzaH1KR-5x74"
      },
      "execution_count": null,
      "outputs": []
    }
  ]
}